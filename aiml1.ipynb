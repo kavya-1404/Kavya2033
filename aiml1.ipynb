{
  "nbformat": 4,
  "nbformat_minor": 0,
  "metadata": {
    "colab": {
      "provenance": []
    },
    "kernelspec": {
      "name": "python3",
      "display_name": "Python 3"
    },
    "language_info": {
      "name": "python"
    }
  },
  "cells": [
    {
      "cell_type": "code",
      "source": [
        "l=[1,2,3,4,5]\n",
        "m=[6,7,8,9,2]\n"
      ],
      "metadata": {
        "id": "NpSQSnyQIUOp"
      },
      "execution_count": null,
      "outputs": []
    },
    {
      "cell_type": "code",
      "source": [
        "print(l+m)"
      ],
      "metadata": {
        "colab": {
          "base_uri": "https://localhost:8080/"
        },
        "id": "stuhshzoImQ4",
        "outputId": "9f032d0b-b909-44e8-95d4-3caa4178665e"
      },
      "execution_count": null,
      "outputs": [
        {
          "output_type": "stream",
          "name": "stdout",
          "text": [
            "[1, 2, 3, 4, 5, 6, 7, 8, 9, 2]\n"
          ]
        }
      ]
    },
    {
      "cell_type": "code",
      "source": [
        "import numpy as np"
      ],
      "metadata": {
        "id": "72q35jDxJOuB"
      },
      "execution_count": null,
      "outputs": []
    },
    {
      "cell_type": "code",
      "source": [
        "a=np.array(l)"
      ],
      "metadata": {
        "id": "CVpRG_DtJaoa"
      },
      "execution_count": null,
      "outputs": []
    },
    {
      "cell_type": "code",
      "source": [
        "b=np.array(m)"
      ],
      "metadata": {
        "id": "XzBhMFWBJe2g"
      },
      "execution_count": null,
      "outputs": []
    },
    {
      "cell_type": "code",
      "source": [
        "print(a+b)"
      ],
      "metadata": {
        "colab": {
          "base_uri": "https://localhost:8080/"
        },
        "id": "9Ui6CJ7gJijz",
        "outputId": "981d9cad-690d-4865-9815-cc6e8a1bf86d"
      },
      "execution_count": null,
      "outputs": [
        {
          "output_type": "stream",
          "name": "stdout",
          "text": [
            "[ 7  9 11 13  7]\n"
          ]
        }
      ]
    },
    {
      "cell_type": "code",
      "source": [
        "print(type(a))"
      ],
      "metadata": {
        "colab": {
          "base_uri": "https://localhost:8080/"
        },
        "id": "OGWVb7eAOphA",
        "outputId": "5ec0a884-89fa-4b6a-e924-e866a559e91d"
      },
      "execution_count": null,
      "outputs": [
        {
          "output_type": "stream",
          "name": "stdout",
          "text": [
            "<class 'numpy.ndarray'>\n"
          ]
        }
      ]
    },
    {
      "cell_type": "code",
      "source": [
        "print(a-b)"
      ],
      "metadata": {
        "colab": {
          "base_uri": "https://localhost:8080/"
        },
        "id": "cPUs3uwgPkaE",
        "outputId": "4b9fa4bd-b292-4dd0-bfcb-419b5a18d7fd"
      },
      "execution_count": null,
      "outputs": [
        {
          "output_type": "stream",
          "name": "stdout",
          "text": [
            "[1 2 3 4 5]\n"
          ]
        }
      ]
    },
    {
      "cell_type": "code",
      "source": [
        "print(a*b)"
      ],
      "metadata": {
        "colab": {
          "base_uri": "https://localhost:8080/"
        },
        "id": "6SGdTYl_PmIU",
        "outputId": "bbd936d4-44ec-4cad-eb77-3ce69acd1034"
      },
      "execution_count": null,
      "outputs": [
        {
          "output_type": "stream",
          "name": "stdout",
          "text": [
            "[ 42  63  88 117  14]\n"
          ]
        }
      ]
    },
    {
      "cell_type": "code",
      "source": [
        "print(a/b)"
      ],
      "metadata": {
        "colab": {
          "base_uri": "https://localhost:8080/"
        },
        "id": "9ww03VaaP0vh",
        "outputId": "623dcf76-cad1-43fb-961b-f4cc97a84fcd"
      },
      "execution_count": null,
      "outputs": [
        {
          "output_type": "stream",
          "name": "stdout",
          "text": [
            "[1.16666667 1.28571429 1.375      1.44444444 3.5       ]\n"
          ]
        }
      ]
    },
    {
      "cell_type": "code",
      "source": [
        "s=np.power(a,b)\n",
        "print(s)"
      ],
      "metadata": {
        "colab": {
          "base_uri": "https://localhost:8080/"
        },
        "id": "GpsEY9NOP2_s",
        "outputId": "d88a1d0a-a78e-4629-e035-970bba50daa1"
      },
      "execution_count": null,
      "outputs": [
        {
          "output_type": "stream",
          "name": "stdout",
          "text": [
            "[     117649     4782969   214358881 10604499373          49]\n"
          ]
        }
      ]
    },
    {
      "cell_type": "code",
      "source": [
        "print(np.tan(30))"
      ],
      "metadata": {
        "colab": {
          "base_uri": "https://localhost:8080/"
        },
        "id": "OtZLEuGBJo4N",
        "outputId": "ab28e586-a876-406f-8498-2b04d26929d2"
      },
      "execution_count": null,
      "outputs": [
        {
          "output_type": "stream",
          "name": "stdout",
          "text": [
            "-6.405331196646276\n"
          ]
        }
      ]
    },
    {
      "cell_type": "code",
      "source": [
        "print(np.sin(30))"
      ],
      "metadata": {
        "colab": {
          "base_uri": "https://localhost:8080/"
        },
        "id": "MG2PZ5IGL8XD",
        "outputId": "d3033af8-6162-47a2-d153-5060904dadf7"
      },
      "execution_count": null,
      "outputs": [
        {
          "output_type": "stream",
          "name": "stdout",
          "text": [
            "-0.9880316240928618\n"
          ]
        }
      ]
    },
    {
      "cell_type": "code",
      "source": [
        "print(np.log(1))"
      ],
      "metadata": {
        "colab": {
          "base_uri": "https://localhost:8080/"
        },
        "id": "5wBXM3iNMCsG",
        "outputId": "31de9e60-34ed-41cb-f82b-34339f1887a1"
      },
      "execution_count": null,
      "outputs": [
        {
          "output_type": "stream",
          "name": "stdout",
          "text": [
            "0.0\n"
          ]
        }
      ]
    },
    {
      "cell_type": "code",
      "source": [
        "print(np.log2(14))"
      ],
      "metadata": {
        "colab": {
          "base_uri": "https://localhost:8080/"
        },
        "id": "12UBcaLWMTE_",
        "outputId": "cb216b97-1a46-4aec-8de6-f3616695273c"
      },
      "execution_count": null,
      "outputs": [
        {
          "output_type": "stream",
          "name": "stdout",
          "text": [
            "3.807354922057604\n"
          ]
        }
      ]
    },
    {
      "cell_type": "code",
      "source": [
        "k=[[1,2,3],[4,5,6],[6,7,8]]\n",
        "print(k)"
      ],
      "metadata": {
        "colab": {
          "base_uri": "https://localhost:8080/"
        },
        "id": "EnmcAZnYLP9W",
        "outputId": "6289c63b-8800-40ef-c6a1-13ebf4c74c39"
      },
      "execution_count": null,
      "outputs": [
        {
          "output_type": "stream",
          "name": "stdout",
          "text": [
            "[[1, 2, 3], [4, 5, 6], [6, 7, 8]]\n"
          ]
        }
      ]
    },
    {
      "cell_type": "code",
      "source": [
        "x=np.array(k)\n",
        "print(x)"
      ],
      "metadata": {
        "colab": {
          "base_uri": "https://localhost:8080/"
        },
        "id": "h0wmt8cFLf_s",
        "outputId": "227df47b-bd77-4165-8128-2c3ad4b93a9c"
      },
      "execution_count": null,
      "outputs": [
        {
          "output_type": "stream",
          "name": "stdout",
          "text": [
            "[[1 2 3]\n",
            " [4 5 6]\n",
            " [6 7 8]]\n"
          ]
        }
      ]
    },
    {
      "cell_type": "code",
      "source": [
        "print(np.linalg.det(x))"
      ],
      "metadata": {
        "colab": {
          "base_uri": "https://localhost:8080/"
        },
        "id": "yJQ9WIJcLvl6",
        "outputId": "3bd2ced0-b05d-473d-b12a-5a4ccd4ddb54"
      },
      "execution_count": null,
      "outputs": [
        {
          "output_type": "stream",
          "name": "stdout",
          "text": [
            "-4.440892098500635e-15\n"
          ]
        }
      ]
    },
    {
      "cell_type": "code",
      "source": [
        "print(np.diagonal(x))"
      ],
      "metadata": {
        "colab": {
          "base_uri": "https://localhost:8080/"
        },
        "id": "FIbvsZyWMpDS",
        "outputId": "f0dca0f4-93ba-4520-c17e-b79cb419132b"
      },
      "execution_count": null,
      "outputs": [
        {
          "output_type": "stream",
          "name": "stdout",
          "text": [
            "[1 5 8]\n"
          ]
        }
      ]
    },
    {
      "cell_type": "code",
      "source": [
        "print(x.shape)"
      ],
      "metadata": {
        "colab": {
          "base_uri": "https://localhost:8080/"
        },
        "id": "fWQkjHpMMwKc",
        "outputId": "5aefdd51-d31c-42d3-949f-ca14482baef5"
      },
      "execution_count": null,
      "outputs": [
        {
          "output_type": "stream",
          "name": "stdout",
          "text": [
            "(3, 3)\n"
          ]
        }
      ]
    },
    {
      "cell_type": "code",
      "source": [
        "people = ['kiran','arun','vijay','varun']\n",
        "age =[25, 30, 35, 40]\n",
        "height =[145, 151, 165, 173]\n",
        "weight=[45, 55, 65, 75]"
      ],
      "metadata": {
        "id": "umPkIt5GUBNE"
      },
      "execution_count": null,
      "outputs": []
    },
    {
      "cell_type": "code",
      "source": [
        "import matplotlib.pyplot as plt"
      ],
      "metadata": {
        "id": "Veivu_3qM2Aw"
      },
      "execution_count": null,
      "outputs": []
    },
    {
      "cell_type": "code",
      "source": [
        "plt.title('people vs age')\n",
        "plt.plot(people,age)\n",
        "plt.xlabel('people')\n",
        "plt.ylabel('age')"
      ],
      "metadata": {
        "colab": {
          "base_uri": "https://localhost:8080/",
          "height": 489
        },
        "id": "ZaspyrOWM7yU",
        "outputId": "681a6b46-bcdf-4a1e-eafb-289084dba2b6"
      },
      "execution_count": null,
      "outputs": [
        {
          "output_type": "execute_result",
          "data": {
            "text/plain": [
              "Text(0, 0.5, 'age')"
            ]
          },
          "metadata": {},
          "execution_count": 74
        },
        {
          "output_type": "display_data",
          "data": {
            "text/plain": [
              "<Figure size 640x480 with 1 Axes>"
            ],
            "image/png": "[encoded data removed]"
          },
          "metadata": {}
        }
      ]
    },
    {
      "cell_type": "code",
      "source": [
        "# Scatter plot\n",
        "plt.title('age vs height')\n",
        "plt.scatter(age, height)"
      ],
      "metadata": {
        "colab": {
          "base_uri": "https://localhost:8080/",
          "height": 469
        },
        "id": "4odE1uskNJXr",
        "outputId": "d49e5101-14c5-43d5-a069-3da61129c083"
      },
      "execution_count": null,
      "outputs": [
        {
          "output_type": "execute_result",
          "data": {
            "text/plain": [
              "<matplotlib.collections.PathCollection at 0x7e335a99e050>"
            ]
          },
          "metadata": {},
          "execution_count": 70
        },
        {
          "output_type": "display_data",
          "data": {
            "text/plain": [
              "<Figure size 640x480 with 1 Axes>"
            ],
            "image/png": "[encoded data removed]"
          },
          "metadata": {}
        }
      ]
    },
    {
      "cell_type": "code",
      "source": [
        "plt.title('height vs weight')\n",
        "plt.bar(height,weight)"
      ],
      "metadata": {
        "colab": {
          "base_uri": "https://localhost:8080/",
          "height": 469
        },
        "id": "0kFXyptBNRSU",
        "outputId": "df28026f-9b27-4682-d1b4-a1c887d7c78a"
      },
      "execution_count": null,
      "outputs": [
        {
          "output_type": "execute_result",
          "data": {
            "text/plain": [
              "<BarContainer object of 4 artists>"
            ]
          },
          "metadata": {},
          "execution_count": 72
        },
        {
          "output_type": "display_data",
          "data": {
            "text/plain": [
              "<Figure size 640x480 with 1 Axes>"
            ],
            "image/png": "[encoded data removed]"
          },
          "metadata": {}
        }
      ]
    },
    {
      "cell_type": "code",
      "source": [
        "plt.hist(height)\n",
        "plt.title('height')"
      ],
      "metadata": {
        "colab": {
          "base_uri": "https://localhost:8080/",
          "height": 469
        },
        "id": "q-ReyXoHQ5X5",
        "outputId": "fd880fcb-c2fd-4cf6-f30e-8dafca80ff58"
      },
      "execution_count": null,
      "outputs": [
        {
          "output_type": "execute_result",
          "data": {
            "text/plain": [
              "Text(0.5, 1.0, 'height')"
            ]
          },
          "metadata": {},
          "execution_count": 73
        },
        {
          "output_type": "display_data",
          "data": {
            "text/plain": [
              "<Figure size 640x480 with 1 Axes>"
            ],
            "image/png": "[encoded data removed]"
          },
          "metadata": {}
        }
      ]
    },
    {
      "cell_type": "code",
      "source": [
        "import pandas as pd"
      ],
      "metadata": {
        "id": "HxHSxWDxJlTW"
      },
      "execution_count": null,
      "outputs": []
    },
    {
      "cell_type": "code",
      "source": [
        "d=pd.read_csv('/content/lab1.csv')\n",
        "print(d)"
      ],
      "metadata": {
        "colab": {
          "base_uri": "https://localhost:8080/"
        },
        "id": "t1NbCYu0caiW",
        "outputId": "349ce77d-2122-44ab-c6b0-b79f17f98a4e"
      },
      "execution_count": null,
      "outputs": [
        {
          "output_type": "stream",
          "name": "stdout",
          "text": [
            "   s.no name  age   occupation\n",
            "0     1    a   12      teacher\n",
            "1     2    b   13       doctor\n",
            "2     3    c   14        pilot\n",
            "3     4    d   15  businessman\n",
            "4     5    e   16       singer\n"
          ]
        }
      ]
    },
    {
      "cell_type": "code",
      "source": [
        "g=pd.read_csv('/content/sample-3.tsv')\n",
        "print(g)"
      ],
      "metadata": {
        "colab": {
          "base_uri": "https://localhost:8080/"
        },
        "id": "jkQUcXhVh6QX",
        "outputId": "321b8f63-733d-4b16-b7f4-7a05f020a0cb"
      },
      "execution_count": 83,
      "outputs": [
        {
          "output_type": "stream",
          "name": "stdout",
          "text": [
            "                             To Do\\t\\t1/3 completed  \n",
            "0                                       ✓\\tDate\\tTask\n",
            "1   TRUE\\t7/9\\tType anything into column A to comp...\n",
            "2   FALSE\\t8/9\\tChange the styling of completed it...\n",
            "3   FALSE\\t9/9\\tSort items using the drop-down arr...\n",
            "4                                           FALSE\\t\\t\n",
            "5                                           FALSE\\t\\t\n",
            "6                                           FALSE\\t\\t\n",
            "7                                           FALSE\\t\\t\n",
            "8                                           FALSE\\t\\t\n",
            "9                                           FALSE\\t\\t\n",
            "10                                          FALSE\\t\\t\n",
            "11                                          FALSE\\t\\t\n",
            "12                                          FALSE\\t\\t\n",
            "13                                          FALSE\\t\\t\n",
            "14                                          FALSE\\t\\t\n",
            "15                                          FALSE\\t\\t\n",
            "16                                          FALSE\\t\\t\n",
            "17                                          FALSE\\t\\t\n",
            "18                                          FALSE\\t\\t\n",
            "19                                          FALSE\\t\\t\n",
            "20                                          FALSE\\t\\t\n",
            "21                                          FALSE\\t\\t\n",
            "22                                          FALSE\\t\\t\n",
            "23                                          FALSE\\t\\t\n",
            "24                                          FALSE\\t\\t\n",
            "25                                          FALSE\\t\\t\n",
            "26                                          FALSE\\t\\t\n",
            "27                                          FALSE\\t\\t\n",
            "28                                          FALSE\\t\\t\n",
            "29                                          FALSE\\t\\t\n",
            "30                                          FALSE\\t\\t\n",
            "31                                          FALSE\\t\\t\n",
            "32                                          FALSE\\t\\t\n",
            "33                                          FALSE\\t\\t\n",
            "34                                          FALSE\\t\\t\n",
            "35                                          FALSE\\t\\t\n",
            "36                                          FALSE\\t\\t\n",
            "37                                          FALSE\\t\\t\n",
            "38                                          FALSE\\t\\t\n",
            "39                                          FALSE\\t\\t\n",
            "40                                          FALSE\\t\\t\n",
            "41                                          FALSE\\t\\t\n",
            "42                                          FALSE\\t\\t\n",
            "43                                          FALSE\\t\\t\n",
            "44                                          FALSE\\t\\t\n",
            "45                                          FALSE\\t\\t\n",
            "46                                          FALSE\\t\\t\n",
            "47                                          FALSE\\t\\t\n"
          ]
        }
      ]
    }
  ]
}