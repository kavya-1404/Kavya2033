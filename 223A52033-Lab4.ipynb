{
  "nbformat": 4,
  "nbformat_minor": 0,
  "metadata": {
    "colab": {
      "provenance": []
    },
    "kernelspec": {
      "name": "python3",
      "display_name": "Python 3"
    },
    "language_info": {
      "name": "python"
    }
  },
  "cells": [
    {
      "cell_type": "code",
      "source": [
        "def minmax(depth, node_index, maximizing_player, values):\n",
        "    if depth == 3:\n",
        "        return values[node_index]\n",
        "\n",
        "    if maximizing_player:\n",
        "        return max(minmax(depth + 1, node_index * 2, False, values),\n",
        "                   minmax(depth + 1, node_index * 2 + 1, False, values))\n",
        "    else:\n",
        "        return min(minmax(depth + 1, node_index * 2, True, values),\n",
        "                   minmax(depth + 1, node_index * 2 + 1, True, values))\n",
        "\n",
        "values = [-1 ,4 ,2 ,6 ,-3 ,-5 ,0 ,7]\n",
        "print(\"The optimal value is :\", minmax(0 ,0 ,True ,values))"
      ],
      "metadata": {
        "colab": {
          "base_uri": "https://localhost:8080/"
        },
        "id": "yyhddJRLX7z-",
        "outputId": "5c38e286-7172-4356-bc83-f24f27c6566b"
      },
      "execution_count": 3,
      "outputs": [
        {
          "output_type": "stream",
          "name": "stdout",
          "text": [
            "The optimal value is : 4\n"
          ]
        }
      ]
    },
    {
      "cell_type": "code",
      "source": [
        "import math\n",
        "\n",
        "def alpha_beta_pruning(depth, node_index, alpha, beta, maximizing_player, values):\n",
        "    if depth == 3:\n",
        "        return values[node_index]\n",
        "\n",
        "    if maximizing_player:\n",
        "        max_eval = -math.inf\n",
        "        for i in range(2):\n",
        "            eval = alpha_beta_pruning(depth + 1, node_index * 2 + i, alpha, beta, False, values)\n",
        "            max_eval = max(max_eval, eval)\n",
        "            alpha = max(alpha, eval)\n",
        "            if beta <= alpha:\n",
        "                break\n",
        "        return max_eval\n",
        "    else:\n",
        "        min_eval = math.inf\n",
        "        for i in range(2):\n",
        "            eval = alpha_beta_pruning(depth + 1, node_index * 2 + i, alpha, beta, True, values)\n",
        "            min_eval = min(min_eval, eval)\n",
        "            beta = min(beta, eval)\n",
        "            if beta <= alpha:\n",
        "                break\n",
        "        return min_eval\n",
        "\n",
        "values = [-1, 4, 2, 6, -3, -5, 0, 7]\n",
        "print(\"The optimal value is :\", alpha_beta_pruning(0, 0, -math.inf, math.inf, True, values))"
      ],
      "metadata": {
        "colab": {
          "base_uri": "https://localhost:8080/"
        },
        "id": "pbNElZQ1dWQB",
        "outputId": "357742ce-31ce-46df-8071-24565f41b52c"
      },
      "execution_count": 4,
      "outputs": [
        {
          "output_type": "stream",
          "name": "stdout",
          "text": [
            "The optimal value is : 4\n"
          ]
        }
      ]
    }
  ]
}